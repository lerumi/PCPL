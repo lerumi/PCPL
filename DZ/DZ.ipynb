{
 "cells": [
  {
   "cell_type": "code",
   "execution_count": 201,
   "metadata": {
    "dotnet_interactive": {
     "language": "fsharp"
    },
    "polyglot_notebook": {
     "kernelName": "fsharp"
    }
   },
   "outputs": [
    {
     "name": "stdout",
     "output_type": "stream",
     "text": [
      "(1.4, 0.2, setosa) \n",
      "(1.4, 0.2, setosa) \n",
      "(1.3, 0.2, setosa) \n",
      "(1.5, 0.2, setosa) \n",
      "(1.4, 0.2, setosa) \n"
     ]
    },
    {
     "data": {
      "text/html": [
       "<table><thead><tr><th><i>index</i></th><th>value</th></tr></thead><tbody><tr><td>0</td><td><details class=\"dni-treeview\"><summary><span class=\"dni-code-hint\"><code>(1.4, 0.2, setosa)</code></span></summary><div><table><thead><tr></tr></thead><tbody><tr><td>Item1</td><td><div class=\"dni-plaintext\"><pre>1.4</pre></div></td></tr><tr><td>Item2</td><td><div class=\"dni-plaintext\"><pre>0.2</pre></div></td></tr><tr><td>Item3</td><td><div class=\"dni-plaintext\"><pre>setosa</pre></div></td></tr></tbody></table></div></details></td></tr><tr><td>1</td><td><details class=\"dni-treeview\"><summary><span class=\"dni-code-hint\"><code>(1.5, 0.1, setosa)</code></span></summary><div><table><thead><tr></tr></thead><tbody><tr><td>Item1</td><td><div class=\"dni-plaintext\"><pre>1.5</pre></div></td></tr><tr><td>Item2</td><td><div class=\"dni-plaintext\"><pre>0.1</pre></div></td></tr><tr><td>Item3</td><td><div class=\"dni-plaintext\"><pre>setosa</pre></div></td></tr></tbody></table></div></details></td></tr><tr><td>2</td><td><details class=\"dni-treeview\"><summary><span class=\"dni-code-hint\"><code>(1.5, 0.2, setosa)</code></span></summary><div><table><thead><tr></tr></thead><tbody><tr><td>Item1</td><td><div class=\"dni-plaintext\"><pre>1.5</pre></div></td></tr><tr><td>Item2</td><td><div class=\"dni-plaintext\"><pre>0.2</pre></div></td></tr><tr><td>Item3</td><td><div class=\"dni-plaintext\"><pre>setosa</pre></div></td></tr></tbody></table></div></details></td></tr><tr><td>3</td><td><details class=\"dni-treeview\"><summary><span class=\"dni-code-hint\"><code>(1.6, 0.2, setosa)</code></span></summary><div><table><thead><tr></tr></thead><tbody><tr><td>Item1</td><td><div class=\"dni-plaintext\"><pre>1.6</pre></div></td></tr><tr><td>Item2</td><td><div class=\"dni-plaintext\"><pre>0.2</pre></div></td></tr><tr><td>Item3</td><td><div class=\"dni-plaintext\"><pre>setosa</pre></div></td></tr></tbody></table></div></details></td></tr><tr><td>4</td><td><details class=\"dni-treeview\"><summary><span class=\"dni-code-hint\"><code>(1.4, 0.1, setosa)</code></span></summary><div><table><thead><tr></tr></thead><tbody><tr><td>Item1</td><td><div class=\"dni-plaintext\"><pre>1.4</pre></div></td></tr><tr><td>Item2</td><td><div class=\"dni-plaintext\"><pre>0.1</pre></div></td></tr><tr><td>Item3</td><td><div class=\"dni-plaintext\"><pre>setosa</pre></div></td></tr></tbody></table></div></details></td></tr><tr><td>5</td><td><details class=\"dni-treeview\"><summary><span class=\"dni-code-hint\"><code>(1.1, 0.1, setosa)</code></span></summary><div><table><thead><tr></tr></thead><tbody><tr><td>Item1</td><td><div class=\"dni-plaintext\"><pre>1.1</pre></div></td></tr><tr><td>Item2</td><td><div class=\"dni-plaintext\"><pre>0.1</pre></div></td></tr><tr><td>Item3</td><td><div class=\"dni-plaintext\"><pre>setosa</pre></div></td></tr></tbody></table></div></details></td></tr><tr><td>6</td><td><details class=\"dni-treeview\"><summary><span class=\"dni-code-hint\"><code>(3.6, 1.3, versicolor)</code></span></summary><div><table><thead><tr></tr></thead><tbody><tr><td>Item1</td><td><div class=\"dni-plaintext\"><pre>3.6</pre></div></td></tr><tr><td>Item2</td><td><div class=\"dni-plaintext\"><pre>1.3</pre></div></td></tr><tr><td>Item3</td><td><div class=\"dni-plaintext\"><pre>versicolor</pre></div></td></tr></tbody></table></div></details></td></tr><tr><td>7</td><td><details class=\"dni-treeview\"><summary><span class=\"dni-code-hint\"><code>(4.4, 1.4, versicolor)</code></span></summary><div><table><thead><tr></tr></thead><tbody><tr><td>Item1</td><td><div class=\"dni-plaintext\"><pre>4.4</pre></div></td></tr><tr><td>Item2</td><td><div class=\"dni-plaintext\"><pre>1.4</pre></div></td></tr><tr><td>Item3</td><td><div class=\"dni-plaintext\"><pre>versicolor</pre></div></td></tr></tbody></table></div></details></td></tr><tr><td>8</td><td><details class=\"dni-treeview\"><summary><span class=\"dni-code-hint\"><code>(4.5, 1.5, versicolor)</code></span></summary><div><table><thead><tr></tr></thead><tbody><tr><td>Item1</td><td><div class=\"dni-plaintext\"><pre>4.5</pre></div></td></tr><tr><td>Item2</td><td><div class=\"dni-plaintext\"><pre>1.5</pre></div></td></tr><tr><td>Item3</td><td><div class=\"dni-plaintext\"><pre>versicolor</pre></div></td></tr></tbody></table></div></details></td></tr><tr><td>9</td><td><details class=\"dni-treeview\"><summary><span class=\"dni-code-hint\"><code>(4.1, 1, versicolor)</code></span></summary><div><table><thead><tr></tr></thead><tbody><tr><td>Item1</td><td><div class=\"dni-plaintext\"><pre>4.1</pre></div></td></tr><tr><td>Item2</td><td><div class=\"dni-plaintext\"><pre>1</pre></div></td></tr><tr><td>Item3</td><td><div class=\"dni-plaintext\"><pre>versicolor</pre></div></td></tr></tbody></table></div></details></td></tr><tr><td>10</td><td><details class=\"dni-treeview\"><summary><span class=\"dni-code-hint\"><code>(4.5, 1.5, versicolor)</code></span></summary><div><table><thead><tr></tr></thead><tbody><tr><td>Item1</td><td><div class=\"dni-plaintext\"><pre>4.5</pre></div></td></tr><tr><td>Item2</td><td><div class=\"dni-plaintext\"><pre>1.5</pre></div></td></tr><tr><td>Item3</td><td><div class=\"dni-plaintext\"><pre>versicolor</pre></div></td></tr></tbody></table></div></details></td></tr><tr><td>11</td><td><details class=\"dni-treeview\"><summary><span class=\"dni-code-hint\"><code>(3.9, 1.1, versicolor)</code></span></summary><div><table><thead><tr></tr></thead><tbody><tr><td>Item1</td><td><div class=\"dni-plaintext\"><pre>3.9</pre></div></td></tr><tr><td>Item2</td><td><div class=\"dni-plaintext\"><pre>1.1</pre></div></td></tr><tr><td>Item3</td><td><div class=\"dni-plaintext\"><pre>versicolor</pre></div></td></tr></tbody></table></div></details></td></tr><tr><td>12</td><td><details class=\"dni-treeview\"><summary><span class=\"dni-code-hint\"><code>(6.1, 2.3, virginica)</code></span></summary><div><table><thead><tr></tr></thead><tbody><tr><td>Item1</td><td><div class=\"dni-plaintext\"><pre>6.1</pre></div></td></tr><tr><td>Item2</td><td><div class=\"dni-plaintext\"><pre>2.3</pre></div></td></tr><tr><td>Item3</td><td><div class=\"dni-plaintext\"><pre>virginica</pre></div></td></tr></tbody></table></div></details></td></tr><tr><td>13</td><td><details class=\"dni-treeview\"><summary><span class=\"dni-code-hint\"><code>(5.6, 2.4, virginica)</code></span></summary><div><table><thead><tr></tr></thead><tbody><tr><td>Item1</td><td><div class=\"dni-plaintext\"><pre>5.6</pre></div></td></tr><tr><td>Item2</td><td><div class=\"dni-plaintext\"><pre>2.4</pre></div></td></tr><tr><td>Item3</td><td><div class=\"dni-plaintext\"><pre>virginica</pre></div></td></tr></tbody></table></div></details></td></tr><tr><td>14</td><td><details class=\"dni-treeview\"><summary><span class=\"dni-code-hint\"><code>(5.5, 1.8, virginica)</code></span></summary><div><table><thead><tr></tr></thead><tbody><tr><td>Item1</td><td><div class=\"dni-plaintext\"><pre>5.5</pre></div></td></tr><tr><td>Item2</td><td><div class=\"dni-plaintext\"><pre>1.8</pre></div></td></tr><tr><td>Item3</td><td><div class=\"dni-plaintext\"><pre>virginica</pre></div></td></tr></tbody></table></div></details></td></tr><tr><td>15</td><td><details class=\"dni-treeview\"><summary><span class=\"dni-code-hint\"><code>(4.8, 1.8, virginica)</code></span></summary><div><table><thead><tr></tr></thead><tbody><tr><td>Item1</td><td><div class=\"dni-plaintext\"><pre>4.8</pre></div></td></tr><tr><td>Item2</td><td><div class=\"dni-plaintext\"><pre>1.8</pre></div></td></tr><tr><td>Item3</td><td><div class=\"dni-plaintext\"><pre>virginica</pre></div></td></tr></tbody></table></div></details></td></tr><tr><td>16</td><td><details class=\"dni-treeview\"><summary><span class=\"dni-code-hint\"><code>(5.4, 2.1, virginica)</code></span></summary><div><table><thead><tr></tr></thead><tbody><tr><td>Item1</td><td><div class=\"dni-plaintext\"><pre>5.4</pre></div></td></tr><tr><td>Item2</td><td><div class=\"dni-plaintext\"><pre>2.1</pre></div></td></tr><tr><td>Item3</td><td><div class=\"dni-plaintext\"><pre>virginica</pre></div></td></tr></tbody></table></div></details></td></tr><tr><td>17</td><td><details class=\"dni-treeview\"><summary><span class=\"dni-code-hint\"><code>(5.6, 2.4, virginica)</code></span></summary><div><table><thead><tr></tr></thead><tbody><tr><td>Item1</td><td><div class=\"dni-plaintext\"><pre>5.6</pre></div></td></tr><tr><td>Item2</td><td><div class=\"dni-plaintext\"><pre>2.4</pre></div></td></tr><tr><td>Item3</td><td><div class=\"dni-plaintext\"><pre>virginica</pre></div></td></tr></tbody></table></div></details></td></tr></tbody></table><style>\r\n",
       ".dni-code-hint {\r\n",
       "    font-style: italic;\r\n",
       "    overflow: hidden;\r\n",
       "    white-space: nowrap;\r\n",
       "}\r\n",
       ".dni-treeview {\r\n",
       "    white-space: nowrap;\r\n",
       "}\r\n",
       ".dni-treeview td {\r\n",
       "    vertical-align: top;\r\n",
       "    text-align: start;\r\n",
       "}\r\n",
       "details.dni-treeview {\r\n",
       "    padding-left: 1em;\r\n",
       "}\r\n",
       "table td {\r\n",
       "    text-align: start;\r\n",
       "}\r\n",
       "table tr { \r\n",
       "    vertical-align: top; \r\n",
       "    margin: 0em 0px;\r\n",
       "}\r\n",
       "table tr td pre \r\n",
       "{ \r\n",
       "    vertical-align: top !important; \r\n",
       "    margin: 0em 0px !important;\r\n",
       "} \r\n",
       "table th {\r\n",
       "    text-align: start;\r\n",
       "}\r\n",
       "</style>"
      ]
     },
     "metadata": {},
     "output_type": "display_data"
    }
   ],
   "source": [
    "open System.IO\n",
    "//Классификация производится по petal_length и petal_width\n",
    "let train_set = \"iris_doc.txt\"\n",
    "let test_set = \"iris_test.txt\"\n",
    "let read_file fn = File.ReadAllLines(fn)\n",
    "\n",
    "let data_test = read_file test_set|> Array.map(fun s -> s.Split(' '))|> Array.map(fun s -> s[2]|> double, s[3]|> double, s[4])\n",
    "let data = read_file train_set\n",
    "            |> Array.skip 1\n",
    "            |> Array.map(fun s -> s.Split(' '))\n",
    "            |> Array.map(fun s -> s[2]|> double, s[3]|> double, s[4])\n",
    "let data_for_see = Array.truncate 5 data\n",
    "let mutable k=0\n",
    "for n in data_for_see do \n",
    "    n\n",
    "    printf $\"{n} \"\n",
    "    printf \"\\n\"\n",
    "data_test\n"
   ]
  },
  {
   "cell_type": "code",
   "execution_count": 202,
   "metadata": {
    "dotnet_interactive": {
     "language": "fsharp"
    },
    "polyglot_notebook": {
     "kernelName": "fsharp"
    }
   },
   "outputs": [
    {
     "data": {
      "text/html": [
       "<div class=\"dni-plaintext\"><pre>0.14142135623730956</pre></div><style>\r\n",
       ".dni-code-hint {\r\n",
       "    font-style: italic;\r\n",
       "    overflow: hidden;\r\n",
       "    white-space: nowrap;\r\n",
       "}\r\n",
       ".dni-treeview {\r\n",
       "    white-space: nowrap;\r\n",
       "}\r\n",
       ".dni-treeview td {\r\n",
       "    vertical-align: top;\r\n",
       "    text-align: start;\r\n",
       "}\r\n",
       "details.dni-treeview {\r\n",
       "    padding-left: 1em;\r\n",
       "}\r\n",
       "table td {\r\n",
       "    text-align: start;\r\n",
       "}\r\n",
       "table tr { \r\n",
       "    vertical-align: top; \r\n",
       "    margin: 0em 0px;\r\n",
       "}\r\n",
       "table tr td pre \r\n",
       "{ \r\n",
       "    vertical-align: top !important; \r\n",
       "    margin: 0em 0px !important;\r\n",
       "} \r\n",
       "table th {\r\n",
       "    text-align: start;\r\n",
       "}\r\n",
       "</style>"
      ]
     },
     "metadata": {},
     "output_type": "display_data"
    }
   ],
   "source": [
    "let getDistance ((x1,y1, s): double*double*string) ((x2,y2, s2): double*double*string) =\n",
    "    (x1-x2)**2 + (y1-y2)**2 \n",
    "    |> sqrt\n",
    "(getDistance(data[0])(data_test[1]) )"
   ]
  },
  {
   "cell_type": "code",
   "execution_count": 203,
   "metadata": {
    "dotnet_interactive": {
     "language": "fsharp"
    },
    "polyglot_notebook": {
     "kernelName": "fsharp"
    }
   },
   "outputs": [
    {
     "data": {
      "text/plain": [
       "setosa"
      ]
     },
     "metadata": {},
     "output_type": "display_data"
    }
   ],
   "source": [
    "let second ((_, c): double*string) = c\n",
    "let third ((_, _, c): double*double*string) = c\n",
    "third(data[0])"
   ]
  },
  {
   "cell_type": "code",
   "execution_count": 204,
   "metadata": {
    "dotnet_interactive": {
     "language": "fsharp"
    },
    "polyglot_notebook": {
     "kernelName": "fsharp"
    }
   },
   "outputs": [],
   "source": [
    "let get_neighbors (train: (double*double*string) array, test) =\n",
    "    let mutable distances = [for i=0 to (Array.length train)-1 do getDistance(train[i])(test)]\n",
    "    let mutable distances_vid = [for i=0 to (Array.length train)-1 do third(train[i])]\n",
    "    let mutable distances_complete = List.map2 (fun x y -> x, y) distances distances_vid\n",
    "    let distance_sort = List.sort distances_complete\n",
    "    let min = second(distance_sort[0])\n",
    "    min "
   ]
  },
  {
   "cell_type": "code",
   "execution_count": 230,
   "metadata": {
    "dotnet_interactive": {
     "language": "fsharp"
    },
    "polyglot_notebook": {
     "kernelName": "fsharp"
    }
   },
   "outputs": [
    {
     "name": "stdout",
     "output_type": "stream",
     "text": [
      "setosa setosa\n",
      "setosa setosa\n",
      "setosa setosa\n",
      "setosa setosa\n",
      "setosa setosa\n",
      "setosa setosa\n",
      "versicolor versicolor\n",
      "versicolor versicolor\n",
      "versicolor versicolor\n",
      "versicolor versicolor\n",
      "versicolor versicolor\n",
      "versicolor versicolor\n",
      "virginica virginica\n",
      "virginica virginica\n",
      "virginica virginica\n",
      "versicolor virginica\n",
      "virginica virginica\n",
      "virginica virginica\n"
     ]
    }
   ],
   "source": [
    "let accuracy =\n",
    "    let correct = 0\n",
    "    for i=0 to (Array.length data_test)-1 do\n",
    "        let answer = get_neighbors (data, data_test[i])\n",
    "        let expected_answer = third(data_test[i])\n",
    "        match answer.CompareTo(expected_answer) with\n",
    "        | 0 -> 0\n",
    "        | x when x < 0 -> -1\n",
    "        | _ -> 1\n",
    "        \n",
    "        printfn $\"{answer} {expected_answer}\" \n",
    "        "
   ]
  },
  {
   "cell_type": "code",
   "execution_count": null,
   "metadata": {
    "dotnet_interactive": {
     "language": "fsharp"
    },
    "polyglot_notebook": {
     "kernelName": "fsharp"
    }
   },
   "outputs": [],
   "source": []
  }
 ],
 "metadata": {
  "kernelspec": {
   "display_name": ".NET (F#)",
   "language": "F#",
   "name": ".net-fsharp"
  },
  "language_info": {
   "name": "polyglot-notebook"
  },
  "polyglot_notebook": {
   "kernelInfo": {
    "defaultKernelName": "fsharp",
    "items": [
     {
      "aliases": [],
      "languageName": "fsharp",
      "name": "fsharp"
     }
    ]
   }
  }
 },
 "nbformat": 4,
 "nbformat_minor": 2
}
