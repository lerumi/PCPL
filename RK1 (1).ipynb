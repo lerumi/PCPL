{
 "cells": [
  {
   "cell_type": "code",
   "execution_count": 102,
   "id": "82b88eb9",
   "metadata": {},
   "outputs": [],
   "source": [
    "from operator import itemgetter"
   ]
  },
  {
   "cell_type": "code",
   "execution_count": 103,
   "id": "0f45b200",
   "metadata": {},
   "outputs": [],
   "source": [
    "class Cond:\n",
    "    #Дерижер\n",
    "    def __init__(self, id, fio, sal, orc_id):\n",
    "        self.id=id\n",
    "        self.fio=fio\n",
    "        self.sal=sal\n",
    "        self.orc_id=orc_id\n",
    "class Orc:\n",
    "    #Оркестр\n",
    "    def __init__(self, id, name):\n",
    "        self.id=id\n",
    "        self.name=name\n",
    "class CondOrc:\n",
    "    #Оркестр\n",
    "    def __init__(self, orc_id, cond_id):\n",
    "        self.orc_id=orc_id\n",
    "        self.cond_id=cond_id\n",
    "        "
   ]
  },
  {
   "cell_type": "code",
   "execution_count": 104,
   "id": "73de54d3",
   "metadata": {},
   "outputs": [
    {
     "name": "stdout",
     "output_type": "stream",
     "text": [
      "<__main__.Orc object at 0x00000180C81F83A0>\n"
     ]
    }
   ],
   "source": [
    "print(Orc(1, 'Duhovie'))"
   ]
  },
  {
   "cell_type": "code",
   "execution_count": 105,
   "id": "0ca32e11",
   "metadata": {},
   "outputs": [],
   "source": [
    "orcs = [\n",
    "    Orc(1, 'Симфонический оркестр'),\n",
    "    Orc(2, 'Духовой оркестр'),\n",
    "    Orc(3, 'Струнный оркестр'),\n",
    "    Orc(4, 'Эстрадный оркестр'),\n",
    "    Orc(5, 'Джазовый оркестр'),\n",
    "    Orc(6, 'Военный оркестр')\n",
    "]"
   ]
  },
  {
   "cell_type": "code",
   "execution_count": 106,
   "id": "6e991f0c",
   "metadata": {},
   "outputs": [],
   "source": [
    "conds = [\n",
    "    Cond(1, 'Чичиков', 25000, 1),\n",
    "    Cond(2, 'Иванов', 35000, 1),\n",
    "    Cond(3, 'Артамонов', 25000, 2),\n",
    "    Cond(4, 'Петров', 45000, 3),\n",
    "    Cond(5, 'Ванин', 55000, 3),\n",
    "    Cond(6, 'Семенов', 45000, 3),\n",
    "    Cond(7, 'Герасимов', 25000, 4),\n",
    "    Cond(8, 'Бирюков', 35000, 5),\n",
    "    Cond(9, 'Абачков', 25000, 6)\n",
    "]"
   ]
  },
  {
   "cell_type": "code",
   "execution_count": 107,
   "id": "43e008fd",
   "metadata": {},
   "outputs": [],
   "source": [
    "conds_orcs = [\n",
    "    CondOrc(1, 1),\n",
    "    CondOrc(1, 2),\n",
    "    CondOrc(2, 3),\n",
    "    CondOrc(3, 4),\n",
    "    CondOrc(3, 5),\n",
    "    CondOrc(3, 6),\n",
    "    CondOrc(4, 7),\n",
    "    CondOrc(5, 8),\n",
    "    CondOrc(6, 9),\n",
    "]"
   ]
  },
  {
   "cell_type": "code",
   "execution_count": 108,
   "id": "aa7ae7b0",
   "metadata": {},
   "outputs": [],
   "source": [
    "def main():\n",
    "    one_to_many = [(c.fio, c.sal, o.name)\n",
    "        for o in orcs\n",
    "        for c in conds\n",
    "        if c.orc_id == o.id]\n",
    "    many_to_many_temp = [(o.name, co.orc_id, co.cond_id)\n",
    "        for o in orcs\n",
    "        for co in conds_orcs\n",
    "        if o.id==co.orc_id]\n",
    "    many_to_many = [(c.fio, c.sal, orc_name)\n",
    "        for orc_name, orc_id, cond_id in many_to_many_temp\n",
    "        for c in conds if c.id == cond_id]\n",
    "    \n",
    "    print('Задание Е1')\n",
    "    print(list(filter(lambda i: i[2].find('Струнный')!=-1, one_to_many)))\n",
    "    \n",
    "    print('Задание Е2')\n",
    "    res_12_unsorted = []\n",
    "    for o in orcs:\n",
    "        orc_conds = list(filter(lambda i: i[2]==o.name, one_to_many))        \n",
    "        if len(orc_conds) > 0:\n",
    "            o_sals = [sal for _,sal,_ in orc_conds]\n",
    "            o_sals_sum = round(sum(o_sals)/len(orc_conds), 2)\n",
    "            res_12_unsorted.append((o.name, o_sals_sum))\n",
    "\n",
    "    res_12 = sorted(res_12_unsorted, key=itemgetter(1), reverse=True)\n",
    "    print(res_12)    \n",
    "    \n",
    "    print('Задание Е3')\n",
    "    print(list(filter(lambda i: i[0].find('А')!=-1, many_to_many)))"
   ]
  },
  {
   "cell_type": "code",
   "execution_count": 109,
   "id": "e4d51d1a",
   "metadata": {},
   "outputs": [
    {
     "name": "stdout",
     "output_type": "stream",
     "text": [
      "Задание Е1\n",
      "[('Петров', 45000, 'Струнный оркестр'), ('Ванин', 55000, 'Струнный оркестр'), ('Семенов', 45000, 'Струнный оркестр')]\n",
      "Задание Е2\n",
      "[('Струнный оркестр', 48333.33), ('Джазовый оркестр', 35000.0), ('Симфонический оркестр', 30000.0), ('Духовой оркестр', 25000.0), ('Эстрадный оркестр', 25000.0), ('Военный оркестр', 25000.0)]\n",
      "Задание Е3\n",
      "[('Артамонов', 25000, 'Духовой оркестр'), ('Абачков', 25000, 'Военный оркестр')]\n"
     ]
    }
   ],
   "source": [
    "if __name__ == '__main__':\n",
    "    main()\n"
   ]
  },
  {
   "cell_type": "code",
   "execution_count": null,
   "id": "f6fb15ef",
   "metadata": {},
   "outputs": [],
   "source": []
  },
  {
   "cell_type": "code",
   "execution_count": null,
   "id": "de1a7066",
   "metadata": {},
   "outputs": [],
   "source": []
  }
 ],
 "metadata": {
  "kernelspec": {
   "display_name": "Python 3 (ipykernel)",
   "language": "python",
   "name": "python3"
  },
  "language_info": {
   "codemirror_mode": {
    "name": "ipython",
    "version": 3
   },
   "file_extension": ".py",
   "mimetype": "text/x-python",
   "name": "python",
   "nbconvert_exporter": "python",
   "pygments_lexer": "ipython3",
   "version": "3.9.13"
  }
 },
 "nbformat": 4,
 "nbformat_minor": 5
}
